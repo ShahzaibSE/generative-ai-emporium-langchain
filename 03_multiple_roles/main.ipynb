{
 "cells": [
  {
   "cell_type": "markdown",
   "metadata": {},
   "source": [
    "## **Make an API Request**"
   ]
  },
  {
   "cell_type": "code",
   "execution_count": 1,
   "metadata": {},
   "outputs": [],
   "source": [
    "from openai import OpenAI\n",
    "from dotenv import load_dotenv, find_dotenv\n",
    "\n",
    "_ : bool = load_dotenv(find_dotenv()) # read local .env file\n",
    "\n",
    "client : OpenAI = OpenAI()"
   ]
  },
  {
   "cell_type": "code",
   "execution_count": 3,
   "metadata": {},
   "outputs": [
    {
     "name": "stdout",
     "output_type": "stream",
     "text": [
      "In the world of code, there's a concept so grand,\n",
      "Where functions call themselves, hand in hand,\n",
      "Like a mirror reflecting a reflection in sight,\n",
      "Recursion in programming shines so bright.\n",
      "\n",
      "A function, like a loop, can repeat its task,\n",
      "But with recursion, it's a different mask,\n",
      "It calls itself to solve smaller parts,\n",
      "Until the problem's vanquished, like magical arts.\n",
      "\n",
      "Just like a Russian doll inside another,\n",
      "Recursion unwinds, like a sister and a brother,\n",
      "It breaks down the problem, piece by piece,\n",
      "Till it finds the answer, a moment of release.\n",
      "\n",
      "Like a never-ending echo in a grand canyon's hold,\n",
      "Recursion echoes through, as the story's told,\n",
      "So in programming, this concept so fine,\n",
      "Recursion dances gracefully, in an elegant line.\n",
      "\n",
      "So, let your functions weave this wondrous spell,\n",
      "With recursion, your code will surely excel,\n",
      "As it traverses through layers, like a journey so vast,\n",
      "Recursion in programming, forever will last.\n"
     ]
    }
   ],
   "source": [
    "from openai.types.chat.chat_completion import ChatCompletion\n",
    "from typing import List\n",
    "\n",
    "def prompt_engineering() -> str:\n",
    "    try:\n",
    "        messages: List = [\n",
    "            {\"role\": \"system\", \"content\": \"You are a poetic assistant, skilled in explaining complex programming concepts with creative flair.\"},\n",
    "            {\"role\": \"user\", \"content\": \"Compose a poem that explains the concept of recursion in programming.\"}\n",
    "        ]\n",
    "        #\n",
    "        response = client.chat.completions.create(messages=messages, model=\"gpt-3.5-turbo-1106\")\n",
    "        return response.choices[0].message.content\n",
    "    except:\n",
    "        print(\"Internal error\")\n",
    "        \n",
    "\n",
    "print(prompt_engineering())\n",
    "    \n",
    "     \n",
    "    "
   ]
  }
 ],
 "metadata": {
  "kernelspec": {
   "display_name": "shahzaibse-langchain-v1",
   "language": "python",
   "name": "python3"
  },
  "language_info": {
   "codemirror_mode": {
    "name": "ipython",
    "version": 3
   },
   "file_extension": ".py",
   "mimetype": "text/x-python",
   "name": "python",
   "nbconvert_exporter": "python",
   "pygments_lexer": "ipython3",
   "version": "3.11.5"
  }
 },
 "nbformat": 4,
 "nbformat_minor": 2
}
