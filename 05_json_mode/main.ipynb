{
 "cells": [
  {
   "cell_type": "code",
   "execution_count": 4,
   "metadata": {},
   "outputs": [
    {
     "name": "stdout",
     "output_type": "stream",
     "text": [
      "Requirement already satisfied: python-dotenv in /Users/shahzaibnoor/anaconda3/envs/shahzaibse-langchain-v1/lib/python3.11/site-packages (from -r requirements.txt (line 1)) (1.0.0)\n",
      "Requirement already satisfied: openai in /Users/shahzaibnoor/anaconda3/envs/shahzaibse-langchain-v1/lib/python3.11/site-packages (from -r requirements.txt (line 2)) (1.2.2)\n",
      "Requirement already satisfied: anyio<4,>=3.5.0 in /Users/shahzaibnoor/anaconda3/envs/shahzaibse-langchain-v1/lib/python3.11/site-packages (from openai->-r requirements.txt (line 2)) (3.7.1)\n",
      "Requirement already satisfied: distro<2,>=1.7.0 in /Users/shahzaibnoor/anaconda3/envs/shahzaibse-langchain-v1/lib/python3.11/site-packages (from openai->-r requirements.txt (line 2)) (1.8.0)\n",
      "Requirement already satisfied: httpx<1,>=0.23.0 in /Users/shahzaibnoor/anaconda3/envs/shahzaibse-langchain-v1/lib/python3.11/site-packages (from openai->-r requirements.txt (line 2)) (0.25.1)\n",
      "Requirement already satisfied: pydantic<3,>=1.9.0 in /Users/shahzaibnoor/anaconda3/envs/shahzaibse-langchain-v1/lib/python3.11/site-packages (from openai->-r requirements.txt (line 2)) (2.4.2)\n",
      "Requirement already satisfied: tqdm>4 in /Users/shahzaibnoor/anaconda3/envs/shahzaibse-langchain-v1/lib/python3.11/site-packages (from openai->-r requirements.txt (line 2)) (4.66.1)\n",
      "Requirement already satisfied: typing-extensions<5,>=4.5 in /Users/shahzaibnoor/anaconda3/envs/shahzaibse-langchain-v1/lib/python3.11/site-packages (from openai->-r requirements.txt (line 2)) (4.8.0)\n",
      "Requirement already satisfied: idna>=2.8 in /Users/shahzaibnoor/anaconda3/envs/shahzaibse-langchain-v1/lib/python3.11/site-packages (from anyio<4,>=3.5.0->openai->-r requirements.txt (line 2)) (3.4)\n",
      "Requirement already satisfied: sniffio>=1.1 in /Users/shahzaibnoor/anaconda3/envs/shahzaibse-langchain-v1/lib/python3.11/site-packages (from anyio<4,>=3.5.0->openai->-r requirements.txt (line 2)) (1.3.0)\n",
      "Requirement already satisfied: certifi in /Users/shahzaibnoor/anaconda3/envs/shahzaibse-langchain-v1/lib/python3.11/site-packages (from httpx<1,>=0.23.0->openai->-r requirements.txt (line 2)) (2023.7.22)\n",
      "Requirement already satisfied: httpcore in /Users/shahzaibnoor/anaconda3/envs/shahzaibse-langchain-v1/lib/python3.11/site-packages (from httpx<1,>=0.23.0->openai->-r requirements.txt (line 2)) (1.0.2)\n",
      "Requirement already satisfied: annotated-types>=0.4.0 in /Users/shahzaibnoor/anaconda3/envs/shahzaibse-langchain-v1/lib/python3.11/site-packages (from pydantic<3,>=1.9.0->openai->-r requirements.txt (line 2)) (0.6.0)\n",
      "Requirement already satisfied: pydantic-core==2.10.1 in /Users/shahzaibnoor/anaconda3/envs/shahzaibse-langchain-v1/lib/python3.11/site-packages (from pydantic<3,>=1.9.0->openai->-r requirements.txt (line 2)) (2.10.1)\n",
      "Requirement already satisfied: h11<0.15,>=0.13 in /Users/shahzaibnoor/anaconda3/envs/shahzaibse-langchain-v1/lib/python3.11/site-packages (from httpcore->httpx<1,>=0.23.0->openai->-r requirements.txt (line 2)) (0.14.0)\n",
      "Note: you may need to restart the kernel to use updated packages.\n"
     ]
    }
   ],
   "source": [
    "%pip install -r requirements.txt"
   ]
  },
  {
   "cell_type": "code",
   "execution_count": 5,
   "metadata": {},
   "outputs": [],
   "source": [
    "from openai import OpenAI\n",
    "from dotenv import load_dotenv, find_dotenv\n",
    "\n",
    "_ : bool = load_dotenv(find_dotenv()) # read local .env file\n",
    "\n",
    "client : OpenAI = OpenAI()"
   ]
  },
  {
   "cell_type": "code",
   "execution_count": 7,
   "metadata": {},
   "outputs": [
    {
     "name": "stdout",
     "output_type": "stream",
     "text": [
      "{\n",
      "  \"months\": [\n",
      "    \"April\",\n",
      "    \"June\",\n",
      "    \"September\",\n",
      "    \"November\"\n",
      "  ]\n",
      "}\n"
     ]
    }
   ],
   "source": [
    "response = client.chat.completions.create(\n",
    "    messages=[\n",
    "    {\"role\": \"system\", \"content\": \"You are a helpful assistant designed to output JSON.\"},\n",
    "    {\"role\": \"user\", \"content\": \"List of months that have 30 days\"}\n",
    "  ],\n",
    "    response_format={ \"type\": \"json_object\" },\n",
    "    model=\"gpt-3.5-turbo-1106\"\n",
    ")\n",
    "\n",
    "print(response.choices[0].message.content)\n"
   ]
  },
  {
   "cell_type": "code",
   "execution_count": 11,
   "metadata": {},
   "outputs": [
    {
     "name": "stdout",
     "output_type": "stream",
     "text": [
      "{\n",
      "  \"months_with_30_days\": [\n",
      "    \"April\",\n",
      "    \"June\",\n",
      "    \"September\",\n",
      "    \"November\"\n",
      "  ]\n",
      "}\n"
     ]
    }
   ],
   "source": [
    "def prompt_engineering() -> object:\n",
    "    try:\n",
    "        response = client.chat.completions.create(\n",
    "        messages = [\n",
    "            {\"role\": \"system\", \"content\": \"You are a helpful assistant designed to output JSON.\"},\n",
    "            {\"role\": \"user\", \"content\": \"List of months that have 30 days\"}\n",
    "        ],\n",
    "        response_format={ \"type\": \"json_object\" },\n",
    "        model=\"gpt-3.5-turbo-1106\"\n",
    "    )\n",
    "        return response.choices[0].message.content\n",
    "    except:\n",
    "        print(\"Invalid format of input\")\n",
    "        \n",
    "print(prompt_engineering())"
   ]
  }
 ],
 "metadata": {
  "kernelspec": {
   "display_name": "shahzaibse-langchain-v1",
   "language": "python",
   "name": "python3"
  },
  "language_info": {
   "codemirror_mode": {
    "name": "ipython",
    "version": 3
   },
   "file_extension": ".py",
   "mimetype": "text/x-python",
   "name": "python",
   "nbconvert_exporter": "python",
   "pygments_lexer": "ipython3",
   "version": "3.11.5"
  }
 },
 "nbformat": 4,
 "nbformat_minor": 2
}
