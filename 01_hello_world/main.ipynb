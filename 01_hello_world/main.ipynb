{
 "cells": [
  {
   "cell_type": "code",
   "execution_count": 1,
   "metadata": {},
   "outputs": [
    {
     "name": "stdout",
     "output_type": "stream",
     "text": [
      "Requirement already satisfied: python-dotenv in /Users/shahzaibnoor/anaconda3/envs/shahzaibse-langchain-v1/lib/python3.11/site-packages (from -r requirements.txt (line 1)) (1.0.0)\n",
      "Requirement already satisfied: openai in /Users/shahzaibnoor/anaconda3/envs/shahzaibse-langchain-v1/lib/python3.11/site-packages (from -r requirements.txt (line 2)) (1.2.2)\n",
      "Requirement already satisfied: anyio<4,>=3.5.0 in /Users/shahzaibnoor/anaconda3/envs/shahzaibse-langchain-v1/lib/python3.11/site-packages (from openai->-r requirements.txt (line 2)) (3.7.1)\n",
      "Requirement already satisfied: distro<2,>=1.7.0 in /Users/shahzaibnoor/anaconda3/envs/shahzaibse-langchain-v1/lib/python3.11/site-packages (from openai->-r requirements.txt (line 2)) (1.8.0)\n",
      "Requirement already satisfied: httpx<1,>=0.23.0 in /Users/shahzaibnoor/anaconda3/envs/shahzaibse-langchain-v1/lib/python3.11/site-packages (from openai->-r requirements.txt (line 2)) (0.25.1)\n",
      "Requirement already satisfied: pydantic<3,>=1.9.0 in /Users/shahzaibnoor/anaconda3/envs/shahzaibse-langchain-v1/lib/python3.11/site-packages (from openai->-r requirements.txt (line 2)) (2.4.2)\n",
      "Requirement already satisfied: tqdm>4 in /Users/shahzaibnoor/anaconda3/envs/shahzaibse-langchain-v1/lib/python3.11/site-packages (from openai->-r requirements.txt (line 2)) (4.66.1)\n",
      "Requirement already satisfied: typing-extensions<5,>=4.5 in /Users/shahzaibnoor/anaconda3/envs/shahzaibse-langchain-v1/lib/python3.11/site-packages (from openai->-r requirements.txt (line 2)) (4.8.0)\n",
      "Requirement already satisfied: idna>=2.8 in /Users/shahzaibnoor/anaconda3/envs/shahzaibse-langchain-v1/lib/python3.11/site-packages (from anyio<4,>=3.5.0->openai->-r requirements.txt (line 2)) (3.4)\n",
      "Requirement already satisfied: sniffio>=1.1 in /Users/shahzaibnoor/anaconda3/envs/shahzaibse-langchain-v1/lib/python3.11/site-packages (from anyio<4,>=3.5.0->openai->-r requirements.txt (line 2)) (1.3.0)\n",
      "Requirement already satisfied: certifi in /Users/shahzaibnoor/anaconda3/envs/shahzaibse-langchain-v1/lib/python3.11/site-packages (from httpx<1,>=0.23.0->openai->-r requirements.txt (line 2)) (2023.7.22)\n",
      "Requirement already satisfied: httpcore in /Users/shahzaibnoor/anaconda3/envs/shahzaibse-langchain-v1/lib/python3.11/site-packages (from httpx<1,>=0.23.0->openai->-r requirements.txt (line 2)) (1.0.2)\n",
      "Requirement already satisfied: annotated-types>=0.4.0 in /Users/shahzaibnoor/anaconda3/envs/shahzaibse-langchain-v1/lib/python3.11/site-packages (from pydantic<3,>=1.9.0->openai->-r requirements.txt (line 2)) (0.6.0)\n",
      "Requirement already satisfied: pydantic-core==2.10.1 in /Users/shahzaibnoor/anaconda3/envs/shahzaibse-langchain-v1/lib/python3.11/site-packages (from pydantic<3,>=1.9.0->openai->-r requirements.txt (line 2)) (2.10.1)\n",
      "Requirement already satisfied: h11<0.15,>=0.13 in /Users/shahzaibnoor/anaconda3/envs/shahzaibse-langchain-v1/lib/python3.11/site-packages (from httpcore->httpx<1,>=0.23.0->openai->-r requirements.txt (line 2)) (0.14.0)\n",
      "Note: you may need to restart the kernel to use updated packages.\n"
     ]
    }
   ],
   "source": [
    "%pip install -r requirements.txt"
   ]
  },
  {
   "cell_type": "code",
   "execution_count": 3,
   "metadata": {},
   "outputs": [
    {
     "name": "stdout",
     "output_type": "stream",
     "text": [
      "The Zen of Python, by Tim Peters\n",
      "\n",
      "Beautiful is better than ugly.\n",
      "Explicit is better than implicit.\n",
      "Simple is better than complex.\n",
      "Complex is better than complicated.\n",
      "Flat is better than nested.\n",
      "Sparse is better than dense.\n",
      "Readability counts.\n",
      "Special cases aren't special enough to break the rules.\n",
      "Although practicality beats purity.\n",
      "Errors should never pass silently.\n",
      "Unless explicitly silenced.\n",
      "In the face of ambiguity, refuse the temptation to guess.\n",
      "There should be one-- and preferably only one --obvious way to do it.\n",
      "Although that way may not be obvious at first unless you're Dutch.\n",
      "Now is better than never.\n",
      "Although never is often better than *right* now.\n",
      "If the implementation is hard to explain, it's a bad idea.\n",
      "If the implementation is easy to explain, it may be a good idea.\n",
      "Namespaces are one honking great idea -- let's do more of those!\n"
     ]
    }
   ],
   "source": [
    "import this"
   ]
  },
  {
   "cell_type": "code",
   "execution_count": 3,
   "metadata": {},
   "outputs": [],
   "source": [
    "from openai import OpenAI\n",
    "from dotenv import find_dotenv, load_dotenv\n",
    "\n",
    "_ : bool = load_dotenv(find_dotenv()) # Parse .env returned by find_dotenv()\n",
    "\n",
    "client: OpenAI = OpenAI()"
   ]
  },
  {
   "cell_type": "code",
   "execution_count": 8,
   "metadata": {},
   "outputs": [
    {
     "data": {
      "text/plain": [
       "'Hello there! How can I assist you today?'"
      ]
     },
     "execution_count": 8,
     "metadata": {},
     "output_type": "execute_result"
    }
   ],
   "source": [
    "from openai.types.chat.chat_completion import ChatCompletion\n",
    "# from typing import Any, List, Dict\n",
    "\n",
    "def prompt_engineering(prompt: str) -> str:\n",
    "    response = client.chat.completions.create(messages=[\n",
    "        {\n",
    "            \"role\": \"user\",\n",
    "            \"content\": prompt,\n",
    "        },\n",
    "    ],       \n",
    "    model=\"gpt-3.5-turbo-1106\",\n",
    "    )\n",
    "    print(response)\n",
    "    return response.choices[0].message.content\n",
    "\n",
    "prompt_engineering(\"Hello world\")"
   ]
  }
 ],
 "metadata": {
  "kernelspec": {
   "display_name": "shahzaibse-langchain-v1",
   "language": "python",
   "name": "python3"
  },
  "language_info": {
   "codemirror_mode": {
    "name": "ipython",
    "version": 3
   },
   "file_extension": ".py",
   "mimetype": "text/x-python",
   "name": "python",
   "nbconvert_exporter": "python",
   "pygments_lexer": "ipython3",
   "version": "3.11.5"
  }
 },
 "nbformat": 4,
 "nbformat_minor": 2
}
